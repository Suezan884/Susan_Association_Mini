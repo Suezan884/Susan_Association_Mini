{
 "cells": [
  {
   "cell_type": "code",
   "execution_count": 3,
   "id": "d379bd1d",
   "metadata": {},
   "outputs": [
    {
     "name": "stdout",
     "output_type": "stream",
     "text": [
      "[['banana', 'eggs', 'peanut'], ['banana', 'peanut', 'chicken', 'Bread'], ['milk', 'cooking oil', 'juice', 'Bread', 'banana'], ['chicken', 'banana'], ['eggs', 'banana', 'cooking oil'], ['milk', 'cooking oil', 'eggs'], ['milk', 'cooking oil', 'banana', 'Bread', 'chicken'], ['eggs', 'Bread'], ['banana', 'Bread', 'milk'], ['milk', 'eggs', 'cooking oil']]\n",
      "    support               itemsets\n",
      "0       0.5                (Bread)\n",
      "1       0.7               (banana)\n",
      "2       0.3              (chicken)\n",
      "3       0.5          (cooking oil)\n",
      "4       0.5                 (eggs)\n",
      "5       0.5                 (milk)\n",
      "6       0.4        (Bread, banana)\n",
      "7       0.3          (milk, Bread)\n",
      "8       0.3      (chicken, banana)\n",
      "9       0.3  (cooking oil, banana)\n",
      "10      0.3         (milk, banana)\n",
      "11      0.3    (eggs, cooking oil)\n",
      "12      0.4    (milk, cooking oil)\n",
      "13      0.3  (milk, Bread, banana)\n",
      "       antecedents    consequents  support  confidence      lift\n",
      "0          (Bread)       (banana)      0.4        0.80  1.142857\n",
      "1        (chicken)       (banana)      0.3        1.00  1.428571\n",
      "2           (milk)  (cooking oil)      0.4        0.80  1.600000\n",
      "3    (cooking oil)         (milk)      0.4        0.80  1.600000\n",
      "4    (milk, Bread)       (banana)      0.3        1.00  1.428571\n",
      "5   (milk, banana)        (Bread)      0.3        1.00  2.000000\n",
      "6  (Bread, banana)         (milk)      0.3        0.75  1.500000\n"
     ]
    }
   ],
   "source": [
    "import pandas as pd\n",
    "import random\n",
    "from mlxtend.frequent_patterns import apriori\n",
    "from mlxtend.preprocessing import TransactionEncoder\n",
    "from mlxtend.frequent_patterns import association_rules\n",
    "\n",
    "items_pool = ['Bread', 'milk', 'eggs', 'banana', 'peanut', 'juice', 'chicken', 'cooking oil']\n",
    "\n",
    "transactions = []  # Initialize the transactions list\n",
    "\n",
    "# Generate 10 transactions with 2–5 items\n",
    "for _ in range(10):\n",
    "    transaction = random.sample(items_pool, k=random.randint(2, 5))\n",
    "    transactions.append(transaction)\n",
    "\n",
    "print(transactions)\n",
    "\n",
    "\n",
    "# Convert transactions to a DataFrame\n",
    "\n",
    "te = TransactionEncoder()\n",
    "te_array = te.fit(transactions).transform(transactions)\n",
    "df = pd.DataFrame(te_array, columns=te.columns_)\n",
    "\n",
    "# Generate frequent itemsets with a minimum support threshold\n",
    "frequent_itemsets = apriori(df, min_support=0.3, use_colnames=True)\n",
    "print(frequent_itemsets)\n",
    "\n",
    "# Generate association rules with a minimum confidence threshold\n",
    "rules = association_rules(frequent_itemsets, metric=\"confidence\", min_threshold=0.7)\n",
    "print(rules[['antecedents', 'consequents', 'support', 'confidence', 'lift']])\n",
    "\n",
    "\n",
    "\n"
   ]
  }
 ],
 "metadata": {
  "kernelspec": {
   "display_name": "Python 3",
   "language": "python",
   "name": "python3"
  },
  "language_info": {
   "codemirror_mode": {
    "name": "ipython",
    "version": 3
   },
   "file_extension": ".py",
   "mimetype": "text/x-python",
   "name": "python",
   "nbconvert_exporter": "python",
   "pygments_lexer": "ipython3",
   "version": "3.12.0"
  }
 },
 "nbformat": 4,
 "nbformat_minor": 5
}
